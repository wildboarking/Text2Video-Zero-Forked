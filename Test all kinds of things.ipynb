{
 "cells": [
  {
   "cell_type": "code",
   "execution_count": 1,
   "id": "b2b7d0b9",
   "metadata": {},
   "outputs": [],
   "source": [
    "from PIL import Image"
   ]
  },
  {
   "cell_type": "code",
   "execution_count": 27,
   "id": "fcde18a7",
   "metadata": {},
   "outputs": [],
   "source": [
    "filename = \"resources/butterfly.jpg\"\n",
    "img = Image.open(filename)"
   ]
  },
  {
   "cell_type": "code",
   "execution_count": 28,
   "id": "91a3cb1f",
   "metadata": {},
   "outputs": [
    {
     "name": "stdout",
     "output_type": "stream",
     "text": [
      "<PIL.JpegImagePlugin.JpegImageFile image mode=RGB size=663x600 at 0x19BE2B053D0>\n"
     ]
    }
   ],
   "source": [
    "print(img)"
   ]
  },
  {
   "cell_type": "code",
   "execution_count": 4,
   "id": "24f9dd07",
   "metadata": {},
   "outputs": [],
   "source": [
    "img.show()"
   ]
  },
  {
   "cell_type": "code",
   "execution_count": 31,
   "id": "a434b4a8",
   "metadata": {},
   "outputs": [
    {
     "data": {
      "text/plain": [
       "(663, 600)"
      ]
     },
     "execution_count": 31,
     "metadata": {},
     "output_type": "execute_result"
    }
   ],
   "source": [
    "img.size"
   ]
  },
  {
   "cell_type": "markdown",
   "id": "d56df534",
   "metadata": {},
   "source": [
    "## create a new image"
   ]
  },
  {
   "cell_type": "code",
   "execution_count": 42,
   "id": "dac855cd",
   "metadata": {},
   "outputs": [],
   "source": [
    "img = Image.new(\"RGB\",(400,500),(255,0,0)) #mode,size,color"
   ]
  },
  {
   "cell_type": "code",
   "execution_count": 43,
   "id": "bd79f935",
   "metadata": {},
   "outputs": [],
   "source": [
    "img.show()"
   ]
  },
  {
   "cell_type": "code",
   "execution_count": 44,
   "id": "25bddeff",
   "metadata": {},
   "outputs": [
    {
     "data": {
      "text/plain": [
       "(400, 500)"
      ]
     },
     "execution_count": 44,
     "metadata": {},
     "output_type": "execute_result"
    }
   ],
   "source": [
    "img.size"
   ]
  },
  {
   "cell_type": "markdown",
   "id": "2483934b",
   "metadata": {},
   "source": [
    "## rotate an image"
   ]
  },
  {
   "cell_type": "code",
   "execution_count": 37,
   "id": "a85efe83",
   "metadata": {},
   "outputs": [],
   "source": [
    "filename = \"resources/butterfly.jpg\"\n",
    "img = Image.open(filename)"
   ]
  },
  {
   "cell_type": "code",
   "execution_count": 38,
   "id": "a78279f4",
   "metadata": {},
   "outputs": [],
   "source": [
    "img = img.rotate(angle=90,expand=True,fillcolor=\"green\",center=(50,50))"
   ]
  },
  {
   "cell_type": "code",
   "execution_count": 39,
   "id": "654af730",
   "metadata": {},
   "outputs": [],
   "source": [
    "img.show()"
   ]
  },
  {
   "cell_type": "code",
   "execution_count": 40,
   "id": "96f2f9ea",
   "metadata": {},
   "outputs": [
    {
     "data": {
      "text/plain": [
       "(600, 663)"
      ]
     },
     "execution_count": 40,
     "metadata": {},
     "output_type": "execute_result"
    }
   ],
   "source": [
    "img.size"
   ]
  },
  {
   "cell_type": "markdown",
   "id": "b5c250ce",
   "metadata": {},
   "source": [
    "## resize an image"
   ]
  },
  {
   "cell_type": "code",
   "execution_count": 48,
   "id": "3e836216",
   "metadata": {},
   "outputs": [],
   "source": [
    "img = Image.open(\"resources/butterfly.jpg\")\n",
    "img.size\n",
    "img.show()"
   ]
  },
  {
   "cell_type": "code",
   "execution_count": 50,
   "id": "3b3fde97",
   "metadata": {},
   "outputs": [],
   "source": [
    "img = img.resize((int(img.width/2),int(img.height/2)),resample=Image.LANCZOS)\n",
    "img.size\n",
    "img.show()"
   ]
  },
  {
   "cell_type": "markdown",
   "id": "decd7a49",
   "metadata": {},
   "source": [
    "## blend 2 images"
   ]
  },
  {
   "cell_type": "code",
   "execution_count": 70,
   "id": "c7ce6001",
   "metadata": {},
   "outputs": [],
   "source": [
    "img1 = Image.open(\"resources/terminator1.jpg\")\n",
    "img2 = Image.open(\"resources/terminator2.jpg\")\n"
   ]
  },
  {
   "cell_type": "code",
   "execution_count": 71,
   "id": "51947170",
   "metadata": {},
   "outputs": [],
   "source": [
    "img = Image.blend(img2,img1,alpha=0.85)"
   ]
  },
  {
   "cell_type": "code",
   "execution_count": 72,
   "id": "a24fed72",
   "metadata": {},
   "outputs": [],
   "source": [
    "img.show()"
   ]
  },
  {
   "cell_type": "code",
   "execution_count": 73,
   "id": "424b1c8b",
   "metadata": {},
   "outputs": [],
   "source": [
    "img.save(\"resources/terminator_blended.jpg\")"
   ]
  },
  {
   "cell_type": "markdown",
   "id": "a94d8925",
   "metadata": {},
   "source": [
    "## crop an image"
   ]
  },
  {
   "cell_type": "code",
   "execution_count": 67,
   "id": "6b75b474",
   "metadata": {},
   "outputs": [],
   "source": [
    "img = Image.open(\"resources/butterfly.jpg\")"
   ]
  },
  {
   "cell_type": "code",
   "execution_count": 68,
   "id": "3bb374d7",
   "metadata": {},
   "outputs": [],
   "source": [
    "imgC = img.crop(box=(20,20,200,200))"
   ]
  },
  {
   "cell_type": "code",
   "execution_count": 69,
   "id": "2127b4ec",
   "metadata": {},
   "outputs": [],
   "source": [
    "imgC.show()"
   ]
  },
  {
   "cell_type": "code",
   "execution_count": null,
   "id": "94a32f66",
   "metadata": {},
   "outputs": [],
   "source": []
  }
 ],
 "metadata": {
  "kernelspec": {
   "display_name": "Python 3 (ipykernel)",
   "language": "python",
   "name": "python3"
  },
  "language_info": {
   "codemirror_mode": {
    "name": "ipython",
    "version": 3
   },
   "file_extension": ".py",
   "mimetype": "text/x-python",
   "name": "python",
   "nbconvert_exporter": "python",
   "pygments_lexer": "ipython3",
   "version": "3.9.16"
  }
 },
 "nbformat": 4,
 "nbformat_minor": 5
}
