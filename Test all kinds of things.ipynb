{
 "cells": [
  {
   "cell_type": "code",
   "execution_count": 1,
   "id": "b2b7d0b9",
   "metadata": {},
   "outputs": [],
   "source": [
    "from PIL import Image"
   ]
  },
  {
   "cell_type": "code",
   "execution_count": 27,
   "id": "fcde18a7",
   "metadata": {},
   "outputs": [],
   "source": [
    "filename = \"resources/butterfly.jpg\"\n",
    "img = Image.open(filename)"
   ]
  },
  {
   "cell_type": "code",
   "execution_count": 28,
   "id": "91a3cb1f",
   "metadata": {},
   "outputs": [
    {
     "name": "stdout",
     "output_type": "stream",
     "text": [
      "<PIL.JpegImagePlugin.JpegImageFile image mode=RGB size=663x600 at 0x19BE2B053D0>\n"
     ]
    }
   ],
   "source": [
    "print(img)"
   ]
  },
  {
   "cell_type": "code",
   "execution_count": 4,
   "id": "24f9dd07",
   "metadata": {},
   "outputs": [],
   "source": [
    "img.show()"
   ]
  },
  {
   "cell_type": "code",
   "execution_count": 31,
   "id": "a434b4a8",
   "metadata": {},
   "outputs": [
    {
     "data": {
      "text/plain": [
       "(663, 600)"
      ]
     },
     "execution_count": 31,
     "metadata": {},
     "output_type": "execute_result"
    }
   ],
   "source": [
    "img.size"
   ]
  },
  {
   "cell_type": "markdown",
   "id": "a454cf64",
   "metadata": {},
   "source": [
    "## create a new image"
   ]
  },
  {
   "cell_type": "code",
   "execution_count": 42,
   "id": "dac855cd",
   "metadata": {},
   "outputs": [],
   "source": [
    "img = Image.new(\"RGB\",(400,500),(255,0,0)) #mode,size,color"
   ]
  },
  {
   "cell_type": "code",
   "execution_count": 43,
   "id": "c2e80405",
   "metadata": {},
   "outputs": [],
   "source": [
    "img.show()"
   ]
  },
  {
   "cell_type": "code",
   "execution_count": 44,
   "id": "27058433",
   "metadata": {},
   "outputs": [
    {
     "data": {
      "text/plain": [
       "(400, 500)"
      ]
     },
     "execution_count": 44,
     "metadata": {},
     "output_type": "execute_result"
    }
   ],
   "source": [
    "img.size"
   ]
  },
  {
   "cell_type": "markdown",
   "id": "45a8aa3a",
   "metadata": {},
   "source": [
    "## rotate an image"
   ]
  },
  {
   "cell_type": "code",
   "execution_count": 37,
   "id": "59dd340b",
   "metadata": {},
   "outputs": [],
   "source": [
    "filename = \"resources/butterfly.jpg\"\n",
    "img = Image.open(filename)"
   ]
  },
  {
   "cell_type": "code",
   "execution_count": 38,
   "id": "1368408a",
   "metadata": {},
   "outputs": [],
   "source": [
    "img = img.rotate(angle=90,expand=True,fillcolor=\"green\",center=(50,50))"
   ]
  },
  {
   "cell_type": "code",
   "execution_count": 39,
   "id": "c14470cb",
   "metadata": {},
   "outputs": [],
   "source": [
    "img.show()"
   ]
  },
  {
   "cell_type": "code",
   "execution_count": 40,
   "id": "082d0a03",
   "metadata": {},
   "outputs": [
    {
     "data": {
      "text/plain": [
       "(600, 663)"
      ]
     },
     "execution_count": 40,
     "metadata": {},
     "output_type": "execute_result"
    }
   ],
   "source": [
    "img.size"
   ]
  },
  {
   "cell_type": "markdown",
   "id": "aa9ec8d0",
   "metadata": {},
   "source": [
    "## resize an image"
   ]
  },
  {
   "cell_type": "code",
   "execution_count": null,
   "id": "78ab19f0",
   "metadata": {},
   "outputs": [],
   "source": []
  },
  {
   "cell_type": "code",
   "execution_count": null,
   "id": "977f8a85",
   "metadata": {},
   "outputs": [],
   "source": []
  },
  {
   "cell_type": "code",
   "execution_count": null,
   "id": "8aa6a9b3",
   "metadata": {},
   "outputs": [],
   "source": []
  },
  {
   "cell_type": "code",
   "execution_count": null,
   "id": "7e143067",
   "metadata": {},
   "outputs": [],
   "source": []
  },
  {
   "cell_type": "code",
   "execution_count": null,
   "id": "4729b44c",
   "metadata": {},
   "outputs": [],
   "source": []
  },
  {
   "cell_type": "code",
   "execution_count": null,
   "id": "905a79bd",
   "metadata": {},
   "outputs": [],
   "source": []
  }
 ],
 "metadata": {
  "kernelspec": {
   "display_name": "Python 3 (ipykernel)",
   "language": "python",
   "name": "python3"
  },
  "language_info": {
   "codemirror_mode": {
    "name": "ipython",
    "version": 3
   },
   "file_extension": ".py",
   "mimetype": "text/x-python",
   "name": "python",
   "nbconvert_exporter": "python",
   "pygments_lexer": "ipython3",
   "version": "3.9.16"
  }
 },
 "nbformat": 4,
 "nbformat_minor": 5
}
